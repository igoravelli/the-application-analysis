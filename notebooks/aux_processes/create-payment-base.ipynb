{
 "cells": [
  {
   "cell_type": "code",
   "execution_count": 1,
   "metadata": {},
   "outputs": [],
   "source": [
    "import pandas as pd\n",
    "import numpy as np\n",
    "from datetime import datetime\n",
    "from dateutil.relativedelta import relativedelta"
   ]
  },
  {
   "cell_type": "code",
   "execution_count": 2,
   "metadata": {},
   "outputs": [],
   "source": [
    "users_subscriptions = pd.read_csv('../../files/users_subscriptions.csv', encoding='utf-8', sep=';')"
   ]
  },
  {
   "cell_type": "markdown",
   "metadata": {},
   "source": [
    "# Pre-process adjustments"
   ]
  },
  {
   "cell_type": "code",
   "execution_count": 3,
   "metadata": {},
   "outputs": [
    {
     "name": "stderr",
     "output_type": "stream",
     "text": [
      "/tmp/ipykernel_32166/2008841549.py:8: SettingWithCopyWarning: \n",
      "A value is trying to be set on a copy of a slice from a DataFrame.\n",
      "Try using .loc[row_indexer,col_indexer] = value instead\n",
      "\n",
      "See the caveats in the documentation: https://pandas.pydata.org/pandas-docs/stable/user_guide/indexing.html#returning-a-view-versus-a-copy\n",
      "  user_with_subscription[col] = pd.to_datetime(user_with_subscription[col])\n",
      "/tmp/ipykernel_32166/2008841549.py:8: SettingWithCopyWarning: \n",
      "A value is trying to be set on a copy of a slice from a DataFrame.\n",
      "Try using .loc[row_indexer,col_indexer] = value instead\n",
      "\n",
      "See the caveats in the documentation: https://pandas.pydata.org/pandas-docs/stable/user_guide/indexing.html#returning-a-view-versus-a-copy\n",
      "  user_with_subscription[col] = pd.to_datetime(user_with_subscription[col])\n",
      "/tmp/ipykernel_32166/2008841549.py:8: SettingWithCopyWarning: \n",
      "A value is trying to be set on a copy of a slice from a DataFrame.\n",
      "Try using .loc[row_indexer,col_indexer] = value instead\n",
      "\n",
      "See the caveats in the documentation: https://pandas.pydata.org/pandas-docs/stable/user_guide/indexing.html#returning-a-view-versus-a-copy\n",
      "  user_with_subscription[col] = pd.to_datetime(user_with_subscription[col])\n"
     ]
    }
   ],
   "source": [
    "# filtering only users with subscription...\n",
    "user_with_subscription = users_subscriptions.loc[~users_subscriptions['subscription_id'].isna()]\n",
    "\n",
    "# change datatype of date columns...\n",
    "date_cols = ['subscription_start_at', 'subscription_end_at', 'signup_at']\n",
    "\n",
    "for col in date_cols:\n",
    "    user_with_subscription[col] = pd.to_datetime(user_with_subscription[col])\n",
    "\n"
   ]
  },
  {
   "cell_type": "code",
   "execution_count": 4,
   "metadata": {},
   "outputs": [],
   "source": [
    "def create_payments_rows(user_id, subscription_id, subscription_type, start_at, end_at, subscription_price):\n",
    "    # print(start_at, end_at)\n",
    "    # print(type(start_at), type(end_at))\n",
    "    end_at = end_at if not(end_at is pd.NaT) else datetime.now().date()\n",
    "    r = relativedelta(end_at, start_at)\n",
    "    months_diff = (r.years * 12) + r.months\n",
    "    # print({\n",
    "    #     'month_diff': months_diff,\n",
    "    #     'start': start_at,\n",
    "    #     'end_at': end_at\n",
    "    # })\n",
    "\n",
    "    payment_value = subscription_price if subscription_type == 'Monthly' else subscription_price / 12 \n",
    "\n",
    "    data = []\n",
    "\n",
    "    for i in range(1, months_diff + 2):\n",
    "        payment = {\n",
    "            'user_id': user_id,\n",
    "            'subscription_id': subscription_id,\n",
    "            'subscription_type': subscription_type,\n",
    "            'subscription_price': subscription_price,\n",
    "            'payment_date': start_at + relativedelta(months=i-1),\n",
    "            'payment_number': i,\n",
    "            'payment_value': payment_value\n",
    "        }\n",
    "\n",
    "        data.append(payment)\n",
    "\n",
    "    return data\n",
    "\n",
    "\n",
    "\n",
    "def create_payments_rows_by_cashflow(user_id, subscription_id, subscription_type, start_at, end_at, subscription_price):\n",
    "    end_at = end_at if not(end_at is pd.NaT) else datetime.now().date()\n",
    "    \n",
    "    r = relativedelta(end_at, start_at)\n",
    "    months_diff = (r.years * 12) + r.months\n",
    "    year_diff = r.years\n",
    "    time_diff = months_diff if subscription_type == 'Monthly' else year_diff\n",
    "\n",
    "    payment_value = subscription_price\n",
    "\n",
    "    data = []\n",
    "\n",
    "    for i in range(1, time_diff + 2):\n",
    "        payment = {\n",
    "            'user_id': user_id,\n",
    "            'subscription_id': subscription_id,\n",
    "            'subscription_type': subscription_type,\n",
    "            'subscription_price': subscription_price,\n",
    "            'payment_date': start_at + (relativedelta(months=i-1) if subscription_type == 'Monthly' else relativedelta(years=i-1)),\n",
    "            'payment_number': i,\n",
    "            'payment_value': payment_value\n",
    "        }\n",
    "\n",
    "        data.append(payment)\n",
    "\n",
    "    return data"
   ]
  },
  {
   "cell_type": "markdown",
   "metadata": {},
   "source": [
    "# Process starts"
   ]
  },
  {
   "cell_type": "code",
   "execution_count": 5,
   "metadata": {},
   "outputs": [],
   "source": [
    "accrual_payments_data = []\n",
    "cashflow_payments_data = []\n",
    "\n",
    "for i, row in user_with_subscription.iterrows():\n",
    "    accrual_payments = create_payments_rows(\n",
    "        user_id = row['user_id'],\n",
    "        subscription_id = row['subscription_id'], \n",
    "        subscription_type = row['subscription_type'],\n",
    "        start_at = row['subscription_start_at'],\n",
    "        end_at = row['subscription_end_at'],\n",
    "        subscription_price = row['subscription_price_eur']\n",
    "    )\n",
    "\n",
    "    cashflow_payments = create_payments_rows_by_cashflow(\n",
    "        user_id = row['user_id'],\n",
    "        subscription_id = row['subscription_id'], \n",
    "        subscription_type = row['subscription_type'],\n",
    "        start_at = row['subscription_start_at'],\n",
    "        end_at = row['subscription_end_at'],\n",
    "        subscription_price = row['subscription_price_eur']\n",
    "    )\n",
    "\n",
    "    accrual_payments_data.append(accrual_payments)\n",
    "    cashflow_payments_data.append(cashflow_payments)"
   ]
  },
  {
   "cell_type": "code",
   "execution_count": 6,
   "metadata": {},
   "outputs": [
    {
     "name": "stdout",
     "output_type": "stream",
     "text": [
      "user_with_subscription size: 5350\n",
      "payments_data size: 5350\n",
      "payments_df size: 73438\n"
     ]
    }
   ],
   "source": [
    "print(f'user_with_subscription size: {len(user_with_subscription)}')\n",
    "print(f'payments_data size: {len(accrual_payments_data)}')\n",
    "\n",
    "accrual_basis_all_payments = [dc for l in accrual_payments_data for dc in l]\n",
    "print(f'payments_df size: {len(accrual_basis_all_payments)}')\n",
    "\n",
    "accrual_payments_df = pd.DataFrame(accrual_basis_all_payments)"
   ]
  },
  {
   "cell_type": "code",
   "execution_count": 7,
   "metadata": {},
   "outputs": [
    {
     "name": "stdout",
     "output_type": "stream",
     "text": [
      "user_with_subscription size: 5350\n",
      "payments_data size: 5350\n",
      "payments_df size: 27892\n"
     ]
    }
   ],
   "source": [
    "print(f'user_with_subscription size: {len(user_with_subscription)}')\n",
    "print(f'payments_data size: {len(cashflow_payments_data)}')\n",
    "\n",
    "cashflow_all_payments = [dc for l in cashflow_payments_data for dc in l]\n",
    "print(f'payments_df size: {len(cashflow_all_payments)}')\n",
    "\n",
    "cashflow_payments_df = pd.DataFrame(cashflow_all_payments)"
   ]
  },
  {
   "cell_type": "markdown",
   "metadata": {},
   "source": [
    "# Create new csv file with payments data"
   ]
  },
  {
   "cell_type": "code",
   "execution_count": 8,
   "metadata": {},
   "outputs": [],
   "source": [
    "accrual_payments_df.to_csv('../../files/accrual_basis_payments.csv', encoding='utf-8', sep=';', index=False)\n",
    "cashflow_payments_df.to_csv('../../files/cash_flow_payments.csv', encoding='utf-8', sep=';', index=False)"
   ]
  }
 ],
 "metadata": {
  "kernelspec": {
   "display_name": "env_yousician",
   "language": "python",
   "name": "python3"
  },
  "language_info": {
   "codemirror_mode": {
    "name": "ipython",
    "version": 3
   },
   "file_extension": ".py",
   "mimetype": "text/x-python",
   "name": "python",
   "nbconvert_exporter": "python",
   "pygments_lexer": "ipython3",
   "version": "3.10.13"
  }
 },
 "nbformat": 4,
 "nbformat_minor": 2
}
