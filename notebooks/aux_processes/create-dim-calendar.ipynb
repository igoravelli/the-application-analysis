{
 "cells": [
  {
   "cell_type": "code",
   "execution_count": 18,
   "metadata": {},
   "outputs": [],
   "source": [
    "import csv\n",
    "import os\n",
    "import calendar\n",
    "from datetime import date"
   ]
  },
  {
   "cell_type": "code",
   "execution_count": 19,
   "metadata": {},
   "outputs": [],
   "source": [
    "def create_full_calendar_csv(start_year, end_year, filename='dim_calendar.csv'):\n",
    "    filename = os.path.join('../../files/', filename)\n",
    "\n",
    "    with open(filename, 'w', newline='') as csvfile:\n",
    "        csvwriter = csv.writer(csvfile)\n",
    "\n",
    "        csvwriter.writerow([\"Date\", \"Day_of_Week\", \"Month\", \"Month_Name\", \"Year_Month\", \"Year\"])\n",
    "\n",
    "        for year in range(start_year, end_year + 1):\n",
    "            for month in range(1, 13):\n",
    "                last_day = calendar.monthrange(year, month)[1]\n",
    "\n",
    "                for day in range(1, last_day + 1):\n",
    "                    current_date = date(year, month, day)\n",
    "\n",
    "                    # (Sunday = 0 ... Saturday = 6)\n",
    "                    day_of_week = (current_date.weekday() + 1) % 7\n",
    "\n",
    "                    month_name = calendar.month_name[month]\n",
    "\n",
    "                    year_month = f\"{year}-{month:02}\"\n",
    "\n",
    "                    csvwriter.writerow([current_date, day_of_week, month, month_name, year_month, year])\n",
    "\n",
    "current_year = date.today().year\n",
    "\n",
    "create_full_calendar_csv(2001, current_year, 'dim_calendar.csv')"
   ]
  }
 ],
 "metadata": {
  "kernelspec": {
   "display_name": "env_yousician",
   "language": "python",
   "name": "python3"
  },
  "language_info": {
   "codemirror_mode": {
    "name": "ipython",
    "version": 3
   },
   "file_extension": ".py",
   "mimetype": "text/x-python",
   "name": "python",
   "nbconvert_exporter": "python",
   "pygments_lexer": "ipython3",
   "version": "3.10.13"
  }
 },
 "nbformat": 4,
 "nbformat_minor": 2
}
