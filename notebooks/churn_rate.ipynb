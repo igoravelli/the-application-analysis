{
 "cells": [
  {
   "cell_type": "code",
   "execution_count": 1,
   "metadata": {},
   "outputs": [],
   "source": [
    "import pandas as pd\n",
    "import duckdb\n",
    "import seaborn as sns\n",
    "from matplotlib import pyplot as plt"
   ]
  },
  {
   "cell_type": "markdown",
   "metadata": {},
   "source": [
    "# What is the churn rate for users with Yearly subscriptions?\n",
    "Assuming that churn is defined as an unsubscription within the first year."
   ]
  },
  {
   "cell_type": "code",
   "execution_count": 2,
   "metadata": {},
   "outputs": [],
   "source": [
    "users_subscriptions = pd.read_csv('../files/users_subscriptions.csv', encoding='utf-8', sep=';')"
   ]
  },
  {
   "cell_type": "code",
   "execution_count": 90,
   "metadata": {},
   "outputs": [
    {
     "name": "stdout",
     "output_type": "stream",
     "text": [
      "The churn rate of Yearly subscriptions is 39.7%\n"
     ]
    }
   ],
   "source": [
    "qry = \"\"\"\n",
    "    WITH cte_only_yearly_subs AS (\n",
    "        SELECT \n",
    "            *\n",
    "            , COALESCE(subscription_end_at, CURRENT_DATE) < DATE_ADD(CAST(subscription_start_at AS DATE), INTERVAL 1 YEAR) AS is_churn\n",
    "        FROM\n",
    "            users_subscriptions\n",
    "        WHERE\n",
    "            subscription_id IS NOT NULL\n",
    "            AND subscription_type = 'Yearly'\n",
    "    )\n",
    "\n",
    "    SELECT \n",
    "        SUM(IF(is_churn = TRUE, 1, 0)) / COUNT(subscription_id) AS churn_rate\n",
    "    FROM\n",
    "        cte_only_yearly_subs\n",
    "    \n",
    "\"\"\"\n",
    "\n",
    "churn_rate = duckdb.query(qry).df().squeeze()\n",
    "\n",
    "print(f'The churn rate of Yearly subscriptions is {round(churn_rate * 100, 1)}%')"
   ]
  },
  {
   "cell_type": "code",
   "execution_count": 120,
   "metadata": {},
   "outputs": [
    {
     "name": "stdout",
     "output_type": "stream",
     "text": [
      "Churn rate by Platform\n"
     ]
    },
    {
     "data": {
      "text/html": [
       "<div>\n",
       "<style scoped>\n",
       "    .dataframe tbody tr th:only-of-type {\n",
       "        vertical-align: middle;\n",
       "    }\n",
       "\n",
       "    .dataframe tbody tr th {\n",
       "        vertical-align: top;\n",
       "    }\n",
       "\n",
       "    .dataframe thead th {\n",
       "        text-align: right;\n",
       "    }\n",
       "</style>\n",
       "<table border=\"1\" class=\"dataframe\">\n",
       "  <thead>\n",
       "    <tr style=\"text-align: right;\">\n",
       "      <th></th>\n",
       "      <th>platform</th>\n",
       "      <th>total_subs</th>\n",
       "      <th>churned_subs</th>\n",
       "      <th>churn_rate</th>\n",
       "    </tr>\n",
       "  </thead>\n",
       "  <tbody>\n",
       "    <tr>\n",
       "      <th>0</th>\n",
       "      <td>iOS</td>\n",
       "      <td>2277</td>\n",
       "      <td>889.0</td>\n",
       "      <td>0.390426</td>\n",
       "    </tr>\n",
       "    <tr>\n",
       "      <th>1</th>\n",
       "      <td>Android</td>\n",
       "      <td>1119</td>\n",
       "      <td>435.0</td>\n",
       "      <td>0.388740</td>\n",
       "    </tr>\n",
       "    <tr>\n",
       "      <th>2</th>\n",
       "      <td>Desktop</td>\n",
       "      <td>372</td>\n",
       "      <td>171.0</td>\n",
       "      <td>0.459677</td>\n",
       "    </tr>\n",
       "  </tbody>\n",
       "</table>\n",
       "</div>"
      ],
      "text/plain": [
       "  platform  total_subs  churned_subs  churn_rate\n",
       "0      iOS        2277         889.0    0.390426\n",
       "1  Android        1119         435.0    0.388740\n",
       "2  Desktop         372         171.0    0.459677"
      ]
     },
     "execution_count": 120,
     "metadata": {},
     "output_type": "execute_result"
    }
   ],
   "source": [
    "qry = \"\"\"\n",
    "    WITH cte_only_yearly_subs AS (\n",
    "        SELECT \n",
    "            *\n",
    "            , COALESCE(subscription_end_at, CURRENT_DATE) < DATE_ADD(CAST(subscription_start_at AS DATE), INTERVAL 1 YEAR) AS is_churn\n",
    "        FROM\n",
    "            users_subscriptions\n",
    "        WHERE\n",
    "            subscription_id IS NOT NULL\n",
    "            AND subscription_type = 'Yearly'\n",
    "    )\n",
    "\n",
    "    SELECT\n",
    "        platform\n",
    "        , COUNT(subscription_id) AS total_subs\n",
    "        , SUM(IF(is_churn = TRUE, 1, 0)) AS churned_subs\n",
    "        , SUM(IF(is_churn = TRUE, 1, 0)) / COUNT(subscription_id) AS churn_rate\n",
    "    FROM\n",
    "        cte_only_yearly_subs\n",
    "    GROUP BY\n",
    "        platform\n",
    "        \n",
    "    \n",
    "\"\"\"\n",
    "\n",
    "print('Churn rate by Platform')\n",
    "duckdb.query(qry).df()"
   ]
  },
  {
   "cell_type": "code",
   "execution_count": 119,
   "metadata": {},
   "outputs": [
    {
     "name": "stdout",
     "output_type": "stream",
     "text": [
      "Churn rate by App Version\n"
     ]
    },
    {
     "data": {
      "text/html": [
       "<div>\n",
       "<style scoped>\n",
       "    .dataframe tbody tr th:only-of-type {\n",
       "        vertical-align: middle;\n",
       "    }\n",
       "\n",
       "    .dataframe tbody tr th {\n",
       "        vertical-align: top;\n",
       "    }\n",
       "\n",
       "    .dataframe thead th {\n",
       "        text-align: right;\n",
       "    }\n",
       "</style>\n",
       "<table border=\"1\" class=\"dataframe\">\n",
       "  <thead>\n",
       "    <tr style=\"text-align: right;\">\n",
       "      <th></th>\n",
       "      <th>app_version</th>\n",
       "      <th>total_subs</th>\n",
       "      <th>churned_subs</th>\n",
       "      <th>churn_rate</th>\n",
       "    </tr>\n",
       "  </thead>\n",
       "  <tbody>\n",
       "    <tr>\n",
       "      <th>0</th>\n",
       "      <td>4.51.0</td>\n",
       "      <td>342</td>\n",
       "      <td>133.0</td>\n",
       "      <td>0.388889</td>\n",
       "    </tr>\n",
       "    <tr>\n",
       "      <th>1</th>\n",
       "      <td>4.52.0</td>\n",
       "      <td>611</td>\n",
       "      <td>234.0</td>\n",
       "      <td>0.382979</td>\n",
       "    </tr>\n",
       "    <tr>\n",
       "      <th>2</th>\n",
       "      <td>4.53.0</td>\n",
       "      <td>759</td>\n",
       "      <td>293.0</td>\n",
       "      <td>0.386034</td>\n",
       "    </tr>\n",
       "    <tr>\n",
       "      <th>3</th>\n",
       "      <td>4.54.0</td>\n",
       "      <td>965</td>\n",
       "      <td>391.0</td>\n",
       "      <td>0.405181</td>\n",
       "    </tr>\n",
       "    <tr>\n",
       "      <th>4</th>\n",
       "      <td>4.55.0</td>\n",
       "      <td>1091</td>\n",
       "      <td>444.0</td>\n",
       "      <td>0.406966</td>\n",
       "    </tr>\n",
       "  </tbody>\n",
       "</table>\n",
       "</div>"
      ],
      "text/plain": [
       "  app_version  total_subs  churned_subs  churn_rate\n",
       "0      4.51.0         342         133.0    0.388889\n",
       "1      4.52.0         611         234.0    0.382979\n",
       "2      4.53.0         759         293.0    0.386034\n",
       "3      4.54.0         965         391.0    0.405181\n",
       "4      4.55.0        1091         444.0    0.406966"
      ]
     },
     "execution_count": 119,
     "metadata": {},
     "output_type": "execute_result"
    }
   ],
   "source": [
    "qry = \"\"\"\n",
    "    WITH cte_only_yearly_subs AS (\n",
    "        SELECT \n",
    "            *\n",
    "            , COALESCE(subscription_end_at, CURRENT_DATE) < DATE_ADD(CAST(subscription_start_at AS DATE), INTERVAL 1 YEAR) AS is_churn\n",
    "        FROM\n",
    "            users_subscriptions\n",
    "        WHERE\n",
    "            subscription_id IS NOT NULL\n",
    "            AND subscription_type = 'Yearly'\n",
    "    )\n",
    "\n",
    "    SELECT\n",
    "        app_version\n",
    "        , COUNT(subscription_id) AS total_subs\n",
    "        , SUM(IF(is_churn = TRUE, 1, 0)) AS churned_subs\n",
    "        , SUM(IF(is_churn = TRUE, 1, 0)) / COUNT(subscription_id) AS churn_rate\n",
    "    FROM\n",
    "        cte_only_yearly_subs\n",
    "    GROUP BY\n",
    "        app_version\n",
    "    ORDER BY\n",
    "        app_version\n",
    "        \n",
    "    \n",
    "\"\"\"\n",
    "\n",
    "print('Churn rate by App Version')\n",
    "duckdb.query(qry).df()"
   ]
  },
  {
   "cell_type": "code",
   "execution_count": 114,
   "metadata": {},
   "outputs": [],
   "source": [
    "qry = \"\"\"\n",
    "    WITH cte_only_yearly_subs AS (\n",
    "        SELECT \n",
    "            *\n",
    "            , COALESCE(subscription_end_at, CURRENT_DATE) < DATE_ADD(CAST(subscription_start_at AS DATE), INTERVAL 1 YEAR) AS is_churn\n",
    "        FROM\n",
    "            users_subscriptions\n",
    "        WHERE\n",
    "            subscription_id IS NOT NULL\n",
    "            AND subscription_type = 'Yearly'\n",
    "    )\n",
    "\n",
    "    SELECT\n",
    "        platform\n",
    "        , app_version\n",
    "        , COUNT(subscription_id) AS total_subs\n",
    "        , SUM(IF(is_churn = TRUE, 1, 0)) AS churned_subs\n",
    "        , SUM(IF(is_churn = TRUE, 1, 0)) / COUNT(subscription_id) AS churn_rate\n",
    "    FROM\n",
    "        cte_only_yearly_subs\n",
    "    GROUP BY\n",
    "        platform\n",
    "        , app_version\n",
    "        \n",
    "    \n",
    "\"\"\"\n",
    "\n",
    "to_corr_df = duckdb.query(qry).df()\n",
    "to_corr_df.tail()"
   ]
  },
  {
   "cell_type": "code",
   "execution_count": 93,
   "metadata": {},
   "outputs": [
    {
     "data": {
      "image/png": "[encoded data removed]",
      "text/plain": [
       "<Figure size 2000x600 with 2 Axes>"
      ]
     },
     "metadata": {},
     "output_type": "display_data"
    }
   ],
   "source": [
    "df = to_corr_df.pivot_table(values='churn_rate', index='app_version', columns='platform')\n",
    "\n",
    "\n",
    "plt.figure(figsize=(20,6))\n",
    "sns.heatmap(df, annot=True, cmap='coolwarm')\n",
    "\n",
    "\n",
    "plt.title('Simple Heatmap')\n",
    "plt.title('Churn Rate relation between app_version vs platform type')\n",
    "plt.xlabel('Platform Type')\n",
    "plt.ylabel('App Version')\n",
    "plt.show()\n"
   ]
  },
  {
   "cell_type": "markdown",
   "metadata": {},
   "source": [
    "The Yearly customers that use the app on Desktop have higher churn rate levels. \n",
    "It can indicate an inefficiency in usability on Desktops.\n",
    "\n",
    "On the other hand, the churn rates in the iOS platform are better. \n",
    "\n",
    "\n",
    "In addition, on Android, there are two versions with relatively good churn rate levels, and these are not the newer ones. It can indicate a worsening in usability for Android users on the latest versions, or even a new bug."
   ]
  },
  {
   "cell_type": "code",
   "execution_count": null,
   "metadata": {},
   "outputs": [],
   "source": []
  },
  {
   "cell_type": "markdown",
   "metadata": {},
   "source": [
    "# Final Answer:\n",
    "The overall churn rate of Yearly subscriptions is 39.7%\n",
    "\n",
    "As we can see in the table below, the churn rate of Yearly subscribers is higher for those that use the app on Desktop.\n",
    "\n",
    "\n",
    "<table>\n",
    "  <tr>\n",
    "    <th>Platform Type</th> \n",
    "    <th>Churn Rate</th>\n",
    "  </tr>\n",
    "  <tr>\n",
    "    <td>Desktop</td>\n",
    "    <td>45.9%</td>\n",
    "  </tr>\n",
    "  <tr>\n",
    "    <td>iOS</td>\n",
    "    <td>39.0%</td>\n",
    "  </tr>\n",
    "  <tr>\n",
    "    <td>Android</td>\n",
    "    <td>38.8%</td>  \n",
    "  </tr>\n",
    "</table>\n",
    "\n",
    "\n",
    "It can be nice to incentivize users to use the app on Mobile\n",
    "\n",
    "---\n",
    "\n",
    "At the same time, as we can see below, over the new app versions, the churn rate has increased. It could have happened due to some new heavy features that have been launched in the newer versions that made the app slow or something like that.\n",
    "\n",
    "It can be nice to work on app usability to improve this.\n",
    "\n",
    "<table>\n",
    "  <tr>\n",
    "    <th>App Version</th> \n",
    "    <th>Churn Rate</th>\n",
    "  </tr>\n",
    "  <tr>\n",
    "    <td>4.51.0</td>\n",
    "    <td>38.8%</td>\n",
    "  </tr>\n",
    "  <tr>\n",
    "    <td>4.52.0</td>\n",
    "    <td>38.3%</td>\n",
    "  </tr>\n",
    "  <tr>\n",
    "    <td>4.53.0</td>\n",
    "    <td>38.6%</td>  \n",
    "  </tr>\n",
    "  <tr>\n",
    "    <td>4.54.0</td>\n",
    "    <td>40.5%</td>  \n",
    "  </tr>\n",
    "  <tr>\n",
    "    <td>4.55.0</td>\n",
    "    <td>40.7%</td>  \n",
    "  </tr>\n",
    "</table>"
   ]
  }
 ],
 "metadata": {
  "kernelspec": {
   "display_name": "env_yousician",
   "language": "python",
   "name": "python3"
  },
  "language_info": {
   "codemirror_mode": {
    "name": "ipython",
    "version": 3
   },
   "file_extension": ".py",
   "mimetype": "text/x-python",
   "name": "python",
   "nbconvert_exporter": "python",
   "pygments_lexer": "ipython3",
   "version": "3.10.13"
  }
 },
 "nbformat": 4,
 "nbformat_minor": 2
}
